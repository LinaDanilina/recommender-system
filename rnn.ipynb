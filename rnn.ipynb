{
  "nbformat": 4,
  "nbformat_minor": 0,
  "metadata": {
    "kernelspec": {
      "display_name": "Python 3",
      "language": "python",
      "name": "python3"
    },
    "language_info": {
      "codemirror_mode": {
        "name": "ipython",
        "version": 3
      },
      "file_extension": ".py",
      "mimetype": "text/x-python",
      "name": "python",
      "nbconvert_exporter": "python",
      "pygments_lexer": "ipython3",
      "version": "3.7.3"
    },
    "colab": {
      "name": "rnn.ipynb",
      "provenance": [],
      "include_colab_link": true
    }
  },
  "cells": [
    {
      "cell_type": "markdown",
      "metadata": {
        "id": "view-in-github",
        "colab_type": "text"
      },
      "source": [
        "<a href=\"https://colab.research.google.com/github/LinaDanilina/recommender-system/blob/master/rnn.ipynb\" target=\"_parent\"><img src=\"https://colab.research.google.com/assets/colab-badge.svg\" alt=\"Open In Colab\"/></a>"
      ]
    },
    {
      "cell_type": "code",
      "metadata": {
        "id": "G6iuDKCEB6Ti",
        "colab_type": "code",
        "outputId": "725e8872-746c-45f8-d783-dbf725b7ed2e",
        "colab": {
          "base_uri": "https://localhost:8080/",
          "height": 121
        }
      },
      "source": [
        "from google.colab import drive\n",
        "drive.mount('/content/drive/')"
      ],
      "execution_count": 0,
      "outputs": [
        {
          "output_type": "stream",
          "text": [
            "Go to this URL in a browser: https://accounts.google.com/o/oauth2/auth?client_id=947318989803-6bn6qk8qdgf4n4g3pfee6491hc0brc4i.apps.googleusercontent.com&redirect_uri=urn%3aietf%3awg%3aoauth%3a2.0%3aoob&response_type=code&scope=email%20https%3a%2f%2fwww.googleapis.com%2fauth%2fdocs.test%20https%3a%2f%2fwww.googleapis.com%2fauth%2fdrive%20https%3a%2f%2fwww.googleapis.com%2fauth%2fdrive.photos.readonly%20https%3a%2f%2fwww.googleapis.com%2fauth%2fpeopleapi.readonly\n",
            "\n",
            "Enter your authorization code:\n",
            "··········\n",
            "Mounted at /content/drive/\n"
          ],
          "name": "stdout"
        }
      ]
    },
    {
      "cell_type": "code",
      "metadata": {
        "id": "HFWvLvy7CDc8",
        "colab_type": "code",
        "outputId": "ab737e9f-804c-44a2-bf77-a5104b8f2eb2",
        "colab": {
          "base_uri": "https://localhost:8080/",
          "height": 50
        }
      },
      "source": [
        "! ls\n",
        "%cd drive/My Drive/spotlight"
      ],
      "execution_count": 0,
      "outputs": [
        {
          "output_type": "stream",
          "text": [
            "drive  sample_data\n",
            "/content/drive/My Drive/spotlight\n"
          ],
          "name": "stdout"
        }
      ]
    },
    {
      "cell_type": "code",
      "metadata": {
        "id": "Zamkr4VwBzB9",
        "colab_type": "code",
        "colab": {}
      },
      "source": [
        "import numpy as np\n",
        "import matplotlib.pyplot as plt\n",
        "import pandas as pd\n",
        "import time"
      ],
      "execution_count": 0,
      "outputs": []
    },
    {
      "cell_type": "code",
      "metadata": {
        "scrolled": true,
        "id": "2DJ1nRUUBzCC",
        "colab_type": "code",
        "colab": {}
      },
      "source": [
        "from sklearn.metrics import (\n",
        "    mean_squared_error,\n",
        "    mean_absolute_error,\n",
        "    r2_score,\n",
        "    explained_variance_score,\n",
        "    roc_auc_score,\n",
        "    log_loss,\n",
        ")"
      ],
      "execution_count": 0,
      "outputs": []
    },
    {
      "cell_type": "code",
      "metadata": {
        "id": "JxeuNSCcCi2_",
        "colab_type": "code",
        "colab": {}
      },
      "source": [
        "train=pd.read_csv('train.csv')\n",
        "train=train[['user_id','movie_id','rating','unix_timestamp']]\n",
        "train=train.rename(columns={'user_id':'user_ids','movie_id':'item_ids','rating':'ratings','unix_timestamp':'timestamps'})\n",
        "\n",
        "test=pd.read_csv('test.csv',delimiter=',')\n",
        "test=test[['user_id','movie_id','rating','unix_timestamp']]\n",
        "test=test.rename(columns={'user_id':'user_ids','movie_id':'item_ids','rating':'ratings','unix_timestamp':'timestamps'})"
      ],
      "execution_count": 0,
      "outputs": []
    },
    {
      "cell_type": "code",
      "metadata": {
        "scrolled": true,
        "id": "CBCMb3ceBzCT",
        "colab_type": "code",
        "outputId": "0b4fed91-602b-48bd-dd1b-5ad9c33e40c8",
        "colab": {
          "base_uri": "https://localhost:8080/",
          "height": 34
        }
      },
      "source": [
        "from spotlight.interactions import Interactions\n",
        "\n",
        "train=Interactions(train['user_ids'][:].values,train['item_ids'][:].values,train['ratings'][:].values,train['timestamps'][:].values)\n",
        "test=Interactions(test['user_ids'][:].values,test['item_ids'][:].values,test['ratings'][:].values,test['timestamps'][:].values)\n",
        "print(train,test)"
      ],
      "execution_count": 0,
      "outputs": [
        {
          "output_type": "stream",
          "text": [
            "<Interactions dataset (943 users x 1682 items x 75000 interactions)> <Interactions dataset (943 users x 1680 items x 25000 interactions)>\n"
          ],
          "name": "stdout"
        }
      ]
    },
    {
      "cell_type": "code",
      "metadata": {
        "id": "L5yu1Ku7ECDq",
        "colab_type": "code",
        "outputId": "9d59d480-5cd9-4708-c64c-a59e2b509e08",
        "colab": {
          "base_uri": "https://localhost:8080/",
          "height": 34
        }
      },
      "source": [
        "train.user_ids"
      ],
      "execution_count": 0,
      "outputs": [
        {
          "output_type": "execute_result",
          "data": {
            "text/plain": [
              "array([ 46, 845,  22, ..., 523,   4, 406])"
            ]
          },
          "metadata": {
            "tags": []
          },
          "execution_count": 7
        }
      ]
    },
    {
      "cell_type": "markdown",
      "metadata": {
        "id": "-jj2lrpKBzCY",
        "colab_type": "text"
      },
      "source": [
        "We can feed our dataset to the ExplicitFactorizationModel class - and sklearn-like object that allows us to train and evaluate the explicit factorization models.\n",
        "\n",
        "Internally, the model uses the BilinearNet class to represents users and items. It's composed of a 4 embedding layers:\n",
        "\n",
        "* a (num_users x latent_dim) embedding layer to represent users,\n",
        "* a (num_items x latent_dim) embedding layer to represent items,\n",
        "* a (num_users x 1) embedding layer to represent user biases, and\n",
        "* a (num_items x 1) embedding layer to represent item biases.\n",
        "\n",
        "Together, these give us the predictions. Their accuracy is evaluated using one of the Spotlight losses. In this case, we'll use the regression loss, which is simply the squared difference between the true and the predicted rating."
      ]
    },
    {
      "cell_type": "code",
      "metadata": {
        "id": "zF3gYIq3BzCZ",
        "colab_type": "code",
        "colab": {}
      },
      "source": [
        "import torch\n",
        "\n",
        "from spotlight.factorization.explicit import ExplicitFactorizationModel\n",
        "\n",
        "model = ExplicitFactorizationModel(loss='regression',\n",
        "                                   embedding_dim=128,  # latent dimensionality\n",
        "                                   n_iter=10,  # number of epochs of training\n",
        "                                   batch_size=1024,  # minibatch size\n",
        "                                   l2=1e-9,  # strength of L2 regularization\n",
        "                                   learning_rate=1e-3,\n",
        "                                   use_cuda=torch.cuda.is_available())"
      ],
      "execution_count": 0,
      "outputs": []
    },
    {
      "cell_type": "code",
      "metadata": {
        "scrolled": true,
        "id": "j9ylAtMTBzCh",
        "colab_type": "code",
        "outputId": "00ac449c-791e-44ae-8e77-aaae85dd460d",
        "colab": {
          "base_uri": "https://localhost:8080/",
          "height": 185
        }
      },
      "source": [
        "start_time = time.time()\n",
        "history=model.fit(train, verbose=True)\n",
        "train_time = time.time() - start_time"
      ],
      "execution_count": 0,
      "outputs": [
        {
          "output_type": "stream",
          "text": [
            "Epoch 0: loss 13.194399627479347\n",
            "Epoch 1: loss 8.196673960299105\n",
            "Epoch 2: loss 2.0793311853666565\n",
            "Epoch 3: loss 1.119748984639709\n",
            "Epoch 4: loss 0.9594384278800037\n",
            "Epoch 5: loss 0.9009330546533739\n",
            "Epoch 6: loss 0.8742705905759657\n",
            "Epoch 7: loss 0.8572772322474299\n",
            "Epoch 8: loss 0.8460370205544137\n",
            "Epoch 9: loss 0.8336294865286028\n"
          ],
          "name": "stdout"
        }
      ]
    },
    {
      "cell_type": "code",
      "metadata": {
        "id": "uhcpvfVsBzCk",
        "colab_type": "code",
        "outputId": "6d257ece-3a2c-4de6-e5f4-e5708f599df3",
        "colab": {
          "base_uri": "https://localhost:8080/",
          "height": 34
        }
      },
      "source": [
        "from spotlight.evaluation import rmse_score\n",
        "\n",
        "train_rmse = rmse_score(model, train)\n",
        "test_rmse = rmse_score(model, test)\n",
        "\n",
        "print('Train RMSE {:.3f}, test RMSE {:.3f}'.format(train_rmse, test_rmse))"
      ],
      "execution_count": 0,
      "outputs": [
        {
          "output_type": "stream",
          "text": [
            "Train RMSE 0.899, test RMSE 0.947\n"
          ],
          "name": "stdout"
        }
      ]
    },
    {
      "cell_type": "code",
      "metadata": {
        "id": "366EID0iBzCp",
        "colab_type": "code",
        "colab": {}
      },
      "source": [
        "start_time = time.time()\n",
        "predictions = model.predict(test.user_ids, test.item_ids)\n",
        "test_time = time.time() - start_time"
      ],
      "execution_count": 0,
      "outputs": []
    },
    {
      "cell_type": "code",
      "metadata": {
        "id": "5PGZV-xPBzCs",
        "colab_type": "code",
        "colab": {}
      },
      "source": [
        "def metrics(data_true, data_pred,time_train, time_test):\n",
        "    mse=np.sqrt(mean_squared_error(data_true, data_pred))\n",
        "    mae=mean_absolute_error(data_true, data_pred)\n",
        "    r2=r2_score(data_true, data_pred)\n",
        "    ex_var=explained_variance_score(test.ratings, predictions)\n",
        "    df=pd.DataFrame({\"RMSE\": mse, \"MAE\":mae, \"R2_score\":r2, \"explained variance\":ex_var,'train time':time_train,\n",
        "                     'test time':time_test},index=[0])\n",
        "    return df"
      ],
      "execution_count": 0,
      "outputs": []
    },
    {
      "cell_type": "code",
      "metadata": {
        "id": "J4pd_5bjBzCv",
        "colab_type": "code",
        "outputId": "06b1ab3a-5fec-45f0-b90b-59f180fb9b2a",
        "colab": {
          "base_uri": "https://localhost:8080/",
          "height": 77
        }
      },
      "source": [
        "metrics(test.ratings, predictions, train_time, test_time)"
      ],
      "execution_count": 0,
      "outputs": [
        {
          "output_type": "execute_result",
          "data": {
            "text/html": [
              "<div>\n",
              "<style scoped>\n",
              "    .dataframe tbody tr th:only-of-type {\n",
              "        vertical-align: middle;\n",
              "    }\n",
              "\n",
              "    .dataframe tbody tr th {\n",
              "        vertical-align: top;\n",
              "    }\n",
              "\n",
              "    .dataframe thead th {\n",
              "        text-align: right;\n",
              "    }\n",
              "</style>\n",
              "<table border=\"1\" class=\"dataframe\">\n",
              "  <thead>\n",
              "    <tr style=\"text-align: right;\">\n",
              "      <th></th>\n",
              "      <th>RMSE</th>\n",
              "      <th>MAE</th>\n",
              "      <th>R2_score</th>\n",
              "      <th>explained variance</th>\n",
              "      <th>train time</th>\n",
              "      <th>test time</th>\n",
              "    </tr>\n",
              "  </thead>\n",
              "  <tbody>\n",
              "    <tr>\n",
              "      <th>0</th>\n",
              "      <td>0.946716</td>\n",
              "      <td>0.745732</td>\n",
              "      <td>0.297497</td>\n",
              "      <td>0.297691</td>\n",
              "      <td>9.38648</td>\n",
              "      <td>0.01899</td>\n",
              "    </tr>\n",
              "  </tbody>\n",
              "</table>\n",
              "</div>"
            ],
            "text/plain": [
              "       RMSE       MAE  R2_score  explained variance  train time  test time\n",
              "0  0.946716  0.745732  0.297497            0.297691     9.38648    0.01899"
            ]
          },
          "metadata": {
            "tags": []
          },
          "execution_count": 15
        }
      ]
    },
    {
      "cell_type": "code",
      "metadata": {
        "id": "8DeBs3nr0c72",
        "colab_type": "code",
        "colab": {}
      },
      "source": [
        ""
      ],
      "execution_count": 0,
      "outputs": []
    }
  ]
}