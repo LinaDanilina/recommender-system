{
  "nbformat": 4,
  "nbformat_minor": 0,
  "metadata": {
    "kernelspec": {
      "display_name": "Python 3",
      "language": "python",
      "name": "python3"
    },
    "language_info": {
      "codemirror_mode": {
        "name": "ipython",
        "version": 3
      },
      "file_extension": ".py",
      "mimetype": "text/x-python",
      "name": "python",
      "nbconvert_exporter": "python",
      "pygments_lexer": "ipython3",
      "version": "3.7.3"
    },
    "colab": {
      "name": "rnn.ipynb",
      "provenance": [],
      "include_colab_link": true
    }
  },
  "cells": [
    {
      "cell_type": "markdown",
      "metadata": {
        "id": "view-in-github",
        "colab_type": "text"
      },
      "source": [
        "<a href=\"https://colab.research.google.com/github/LinaDanilina/recommender-system/blob/master/rnn.ipynb\" target=\"_parent\"><img src=\"https://colab.research.google.com/assets/colab-badge.svg\" alt=\"Open In Colab\"/></a>"
      ]
    },
    {
      "cell_type": "code",
      "metadata": {
        "id": "G6iuDKCEB6Ti",
        "colab_type": "code",
        "colab": {
          "base_uri": "https://localhost:8080/",
          "height": 34
        },
        "outputId": "0ac1a790-56b5-479b-e40b-e0b2d152de5e"
      },
      "source": [
        "from google.colab import drive\n",
        "drive.mount('/content/drive/')"
      ],
      "execution_count": 1,
      "outputs": [
        {
          "output_type": "stream",
          "text": [
            "Drive already mounted at /content/drive/; to attempt to forcibly remount, call drive.mount(\"/content/drive/\", force_remount=True).\n"
          ],
          "name": "stdout"
        }
      ]
    },
    {
      "cell_type": "code",
      "metadata": {
        "id": "HFWvLvy7CDc8",
        "colab_type": "code",
        "colab": {
          "base_uri": "https://localhost:8080/",
          "height": 50
        },
        "outputId": "c7c8dbf4-17b8-440b-887a-0967d2c0ac86"
      },
      "source": [
        "! ls\n",
        "%cd drive/My Drive/spotlight"
      ],
      "execution_count": 2,
      "outputs": [
        {
          "output_type": "stream",
          "text": [
            "drive  sample_data\n",
            "/content/drive/My Drive/spotlight\n"
          ],
          "name": "stdout"
        }
      ]
    },
    {
      "cell_type": "code",
      "metadata": {
        "id": "Zamkr4VwBzB9",
        "colab_type": "code",
        "colab": {}
      },
      "source": [
        "import numpy as np\n",
        "import matplotlib.pyplot as plt\n",
        "import pandas as pd"
      ],
      "execution_count": 0,
      "outputs": []
    },
    {
      "cell_type": "code",
      "metadata": {
        "scrolled": true,
        "id": "2DJ1nRUUBzCC",
        "colab_type": "code",
        "colab": {}
      },
      "source": [
        "from sklearn.metrics import (\n",
        "    mean_squared_error,\n",
        "    mean_absolute_error,\n",
        "    r2_score,\n",
        "    explained_variance_score,\n",
        "    roc_auc_score,\n",
        "    log_loss,\n",
        ")"
      ],
      "execution_count": 0,
      "outputs": []
    },
    {
      "cell_type": "code",
      "metadata": {
        "id": "JxeuNSCcCi2_",
        "colab_type": "code",
        "colab": {}
      },
      "source": [
        "train=pd.read_csv('train.csv')\n",
        "train=train[['user_id','movie_id','rating','unix_timestamp']]\n",
        "train=train.rename(columns={'user_id':'user_ids','movie_id':'item_ids','rating':'ratings','unix_timestamp':'timestamps'})\n",
        "\n",
        "test=pd.read_csv('test.csv',delimiter=',')\n",
        "test=test[['user_id','movie_id','rating','unix_timestamp']]\n",
        "test=test.rename(columns={'user_id':'user_ids','movie_id':'item_ids','rating':'ratings','unix_timestamp':'timestamps'})"
      ],
      "execution_count": 0,
      "outputs": []
    },
    {
      "cell_type": "code",
      "metadata": {
        "scrolled": true,
        "id": "CBCMb3ceBzCT",
        "colab_type": "code",
        "colab": {
          "base_uri": "https://localhost:8080/",
          "height": 34
        },
        "outputId": "f2f1b6d6-db67-44e1-be56-2f11f918add5"
      },
      "source": [
        "from spotlight.interactions import Interactions\n",
        "\n",
        "train=Interactions(train['user_ids'][:].values,train['item_ids'][:].values,train['ratings'][:].values,train['timestamps'][:].values)\n",
        "test=Interactions(test['user_ids'][:].values,test['item_ids'][:].values,test['ratings'][:].values,test['timestamps'][:].values)\n",
        "print(train,test)"
      ],
      "execution_count": 20,
      "outputs": [
        {
          "output_type": "stream",
          "text": [
            "<Interactions dataset (943 users x 1682 items x 75000 interactions)> <Interactions dataset (943 users x 1680 items x 25000 interactions)>\n"
          ],
          "name": "stdout"
        }
      ]
    },
    {
      "cell_type": "code",
      "metadata": {
        "id": "L5yu1Ku7ECDq",
        "colab_type": "code",
        "colab": {
          "base_uri": "https://localhost:8080/",
          "height": 34
        },
        "outputId": "e55b0e96-24b3-4c48-a0fb-28015c599d17"
      },
      "source": [
        "train.user_ids"
      ],
      "execution_count": 21,
      "outputs": [
        {
          "output_type": "execute_result",
          "data": {
            "text/plain": [
              "array([ 46, 845,  22, ..., 523,   4, 406])"
            ]
          },
          "metadata": {
            "tags": []
          },
          "execution_count": 21
        }
      ]
    },
    {
      "cell_type": "markdown",
      "metadata": {
        "id": "-jj2lrpKBzCY",
        "colab_type": "text"
      },
      "source": [
        "We can feed our dataset to the ExplicitFactorizationModel class - and sklearn-like object that allows us to train and evaluate the explicit factorization models.\n",
        "\n",
        "Internally, the model uses the BilinearNet class to represents users and items. It's composed of a 4 embedding layers:\n",
        "\n",
        "* a (num_users x latent_dim) embedding layer to represent users,\n",
        "* a (num_items x latent_dim) embedding layer to represent items,\n",
        "* a (num_users x 1) embedding layer to represent user biases, and\n",
        "* a (num_items x 1) embedding layer to represent item biases.\n",
        "\n",
        "Together, these give us the predictions. Their accuracy is evaluated using one of the Spotlight losses. In this case, we'll use the regression loss, which is simply the squared difference between the true and the predicted rating."
      ]
    },
    {
      "cell_type": "code",
      "metadata": {
        "id": "zF3gYIq3BzCZ",
        "colab_type": "code",
        "colab": {}
      },
      "source": [
        "import torch\n",
        "\n",
        "from spotlight.factorization.explicit import ExplicitFactorizationModel\n",
        "\n",
        "model = ExplicitFactorizationModel(loss='regression',\n",
        "                                   embedding_dim=128,  # latent dimensionality\n",
        "                                   n_iter=10,  # number of epochs of training\n",
        "                                   batch_size=1024,  # minibatch size\n",
        "                                   l2=1e-9,  # strength of L2 regularization\n",
        "                                   learning_rate=1e-3,\n",
        "                                   use_cuda=torch.cuda.is_available())"
      ],
      "execution_count": 0,
      "outputs": []
    },
    {
      "cell_type": "code",
      "metadata": {
        "scrolled": true,
        "id": "j9ylAtMTBzCh",
        "colab_type": "code",
        "colab": {
          "base_uri": "https://localhost:8080/",
          "height": 185
        },
        "outputId": "1b9f1068-1427-49f2-c74a-495480d09f1c"
      },
      "source": [
        "history=model.fit(train, verbose=True)"
      ],
      "execution_count": 23,
      "outputs": [
        {
          "output_type": "stream",
          "text": [
            "Epoch 0: loss 13.161509874704722\n",
            "Epoch 1: loss 8.068518078004992\n",
            "Epoch 2: loss 2.042907594023524\n",
            "Epoch 3: loss 1.1207967320004024\n",
            "Epoch 4: loss 0.9621324225051983\n",
            "Epoch 5: loss 0.9081068216143428\n",
            "Epoch 6: loss 0.8802197535295744\n",
            "Epoch 7: loss 0.8652686218957644\n",
            "Epoch 8: loss 0.8548531395358008\n",
            "Epoch 9: loss 0.846434818731772\n"
          ],
          "name": "stdout"
        }
      ]
    },
    {
      "cell_type": "code",
      "metadata": {
        "id": "uhcpvfVsBzCk",
        "colab_type": "code",
        "colab": {
          "base_uri": "https://localhost:8080/",
          "height": 34
        },
        "outputId": "69dc01ac-8828-446d-9265-e0fd1524cded"
      },
      "source": [
        "from spotlight.evaluation import rmse_score\n",
        "\n",
        "train_rmse = rmse_score(model, train)\n",
        "test_rmse = rmse_score(model, test)\n",
        "\n",
        "print('Train RMSE {:.3f}, test RMSE {:.3f}'.format(train_rmse, test_rmse))"
      ],
      "execution_count": 24,
      "outputs": [
        {
          "output_type": "stream",
          "text": [
            "Train RMSE 0.907, test RMSE 0.952\n"
          ],
          "name": "stdout"
        }
      ]
    },
    {
      "cell_type": "code",
      "metadata": {
        "id": "366EID0iBzCp",
        "colab_type": "code",
        "colab": {}
      },
      "source": [
        " predictions = model.predict(test.user_ids, test.item_ids)"
      ],
      "execution_count": 0,
      "outputs": []
    },
    {
      "cell_type": "code",
      "metadata": {
        "id": "5PGZV-xPBzCs",
        "colab_type": "code",
        "colab": {}
      },
      "source": [
        "def metrics(data_true, data_pred):\n",
        "    mse=np.sqrt(mean_squared_error(data_true, data_pred))\n",
        "    mae=mean_absolute_error(data_true, data_pred)\n",
        "    r2=r2_score(data_true, data_pred)\n",
        "    ex_var=explained_variance_score(test.ratings, predictions)\n",
        "    df=pd.DataFrame({\"MSE\": mse, \"MAE\":mae, \"R2_score\":r2, \"explained variance\":ex_var},index=[0])\n",
        "    return df"
      ],
      "execution_count": 0,
      "outputs": []
    },
    {
      "cell_type": "code",
      "metadata": {
        "id": "J4pd_5bjBzCv",
        "colab_type": "code",
        "colab": {
          "base_uri": "https://localhost:8080/",
          "height": 77
        },
        "outputId": "6785c815-833f-44a8-8aea-0cfa8bfa42e8"
      },
      "source": [
        "metrics(test.ratings, predictions)"
      ],
      "execution_count": 27,
      "outputs": [
        {
          "output_type": "execute_result",
          "data": {
            "text/html": [
              "<div>\n",
              "<style scoped>\n",
              "    .dataframe tbody tr th:only-of-type {\n",
              "        vertical-align: middle;\n",
              "    }\n",
              "\n",
              "    .dataframe tbody tr th {\n",
              "        vertical-align: top;\n",
              "    }\n",
              "\n",
              "    .dataframe thead th {\n",
              "        text-align: right;\n",
              "    }\n",
              "</style>\n",
              "<table border=\"1\" class=\"dataframe\">\n",
              "  <thead>\n",
              "    <tr style=\"text-align: right;\">\n",
              "      <th></th>\n",
              "      <th>MSE</th>\n",
              "      <th>MAE</th>\n",
              "      <th>R2_score</th>\n",
              "      <th>explained variance</th>\n",
              "    </tr>\n",
              "  </thead>\n",
              "  <tbody>\n",
              "    <tr>\n",
              "      <th>0</th>\n",
              "      <td>0.952237</td>\n",
              "      <td>0.750379</td>\n",
              "      <td>0.289279</td>\n",
              "      <td>0.289508</td>\n",
              "    </tr>\n",
              "  </tbody>\n",
              "</table>\n",
              "</div>"
            ],
            "text/plain": [
              "        MSE       MAE  R2_score  explained variance\n",
              "0  0.952237  0.750379  0.289279            0.289508"
            ]
          },
          "metadata": {
            "tags": []
          },
          "execution_count": 27
        }
      ]
    },
    {
      "cell_type": "code",
      "metadata": {
        "id": "9lSKIIfyBzCx",
        "colab_type": "code",
        "colab": {}
      },
      "source": [
        ""
      ],
      "execution_count": 0,
      "outputs": []
    }
  ]
}