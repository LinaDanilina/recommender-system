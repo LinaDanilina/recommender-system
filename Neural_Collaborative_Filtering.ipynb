{
  "nbformat": 4,
  "nbformat_minor": 0,
  "metadata": {
    "colab": {
      "name": "Neural Collaborative Filtering.ipynb",
      "provenance": [],
      "authorship_tag": "ABX9TyOtcJK/C7L2qWdZInFfWnu4",
      "include_colab_link": true
    },
    "kernelspec": {
      "name": "python3",
      "display_name": "Python 3"
    },
    "accelerator": "GPU"
  },
  "cells": [
    {
      "cell_type": "markdown",
      "metadata": {
        "id": "view-in-github",
        "colab_type": "text"
      },
      "source": [
        "<a href=\"https://colab.research.google.com/github/LinaDanilina/recommender-system/blob/master/Neural_Collaborative_Filtering.ipynb\" target=\"_parent\"><img src=\"https://colab.research.google.com/assets/colab-badge.svg\" alt=\"Open In Colab\"/></a>"
      ]
    },
    {
      "cell_type": "code",
      "metadata": {
        "id": "I42znjoCsO9P",
        "colab_type": "code",
        "colab": {}
      },
      "source": [
        "from sklearn.metrics import (\n",
        "    mean_squared_error,\n",
        "    mean_absolute_error,\n",
        "    r2_score,\n",
        "    explained_variance_score,\n",
        "    roc_auc_score,\n",
        "    log_loss,\n",
        "    ndcg_score\n",
        ")\n",
        "import numpy as np"
      ],
      "execution_count": 0,
      "outputs": []
    },
    {
      "cell_type": "code",
      "metadata": {
        "id": "ieqtWjhaIcw4",
        "colab_type": "code",
        "outputId": "cb7b4b16-4d4f-464d-9c89-32ae5266fa2e",
        "colab": {
          "base_uri": "https://localhost:8080/",
          "height": 34
        }
      },
      "source": [
        "from google.colab import drive\n",
        "drive.mount('/content/drive/')"
      ],
      "execution_count": 13,
      "outputs": [
        {
          "output_type": "stream",
          "text": [
            "Drive already mounted at /content/drive/; to attempt to forcibly remount, call drive.mount(\"/content/drive/\", force_remount=True).\n"
          ],
          "name": "stdout"
        }
      ]
    },
    {
      "cell_type": "code",
      "metadata": {
        "id": "JvvOtkJzsnBW",
        "colab_type": "code",
        "outputId": "530d0440-f9b2-4b05-f3a1-949bcd9d3955",
        "colab": {
          "base_uri": "https://localhost:8080/",
          "height": 118
        }
      },
      "source": [
        "! ls\n",
        "%cd drive/My Drive/recommenders"
      ],
      "execution_count": 14,
      "outputs": [
        {
          "output_type": "stream",
          "text": [
            "AUTHORS.md\t data.csv  ml-100k     reco_utils   setup.py   Untitled.ipynb\n",
            "benchmarks\t docker    notebooks   scripts\t    test.csv\n",
            "contrib\t\t docs\t   rating.csv  SECURITY.md  tests\n",
            "CONTRIBUTING.md  LICENSE   README.md   SETUP.md     train.csv\n",
            "[Errno 2] No such file or directory: 'drive/My Drive/recommenders'\n",
            "/content/drive/My Drive/recommenders\n"
          ],
          "name": "stdout"
        }
      ]
    },
    {
      "cell_type": "code",
      "metadata": {
        "id": "OTWGD3omoOzN",
        "colab_type": "code",
        "outputId": "eca3b7a0-c76a-4d37-a033-b0dc75c8d2ba",
        "colab": {
          "base_uri": "https://localhost:8080/",
          "height": 34
        }
      },
      "source": [
        "%tensorflow_version 1.x\n",
        "import tensorflow as tf\n",
        "tf.__version__"
      ],
      "execution_count": 15,
      "outputs": [
        {
          "output_type": "execute_result",
          "data": {
            "text/plain": [
              "'1.15.2'"
            ]
          },
          "metadata": {
            "tags": []
          },
          "execution_count": 15
        }
      ]
    },
    {
      "cell_type": "code",
      "metadata": {
        "id": "ty11yChzIdk6",
        "colab_type": "code",
        "colab": {}
      },
      "source": [
        "import time\n",
        "import pandas as pd\n",
        "#import tensorflow as tf\n",
        "\n",
        "from reco_utils.recommender.ncf.ncf_singlenode import NCF\n",
        "from reco_utils.recommender.ncf.dataset import Dataset as NCFDataset\n",
        "from reco_utils.dataset import movielens\n",
        "from reco_utils.common.notebook_utils import is_jupyter\n",
        "from reco_utils.dataset.python_splitters import python_chrono_split\n",
        "from reco_utils.evaluation.python_evaluation import (rmse, mae, rsquared, exp_var, map_at_k, ndcg_at_k, precision_at_k, \n",
        "                                                     recall_at_k, get_top_k_items)"
      ],
      "execution_count": 0,
      "outputs": []
    },
    {
      "cell_type": "code",
      "metadata": {
        "id": "tj6OjdN5I2Zn",
        "colab_type": "code",
        "colab": {}
      },
      "source": [
        "# top k items to recommend\n",
        "TOP_K = 10\n",
        "\n",
        "# Select MovieLens data size: 100k, 1m, 10m, or 20m\n",
        "MOVIELENS_DATA_SIZE = '100k'\n",
        "\n",
        "# Model parameters\n",
        "EPOCHS = 50\n",
        "BATCH_SIZE = 256\n",
        "\n",
        "SEED = 42"
      ],
      "execution_count": 0,
      "outputs": []
    },
    {
      "cell_type": "code",
      "metadata": {
        "id": "LlT2m1oXwwrw",
        "colab_type": "code",
        "outputId": "28d5fe83-d475-4914-f93d-ff08207205c9",
        "colab": {
          "base_uri": "https://localhost:8080/",
          "height": 296
        }
      },
      "source": [
        "data=pd.read_csv('data.csv')\n",
        "data.head()"
      ],
      "execution_count": 18,
      "outputs": [
        {
          "output_type": "execute_result",
          "data": {
            "text/html": [
              "<div>\n",
              "<style scoped>\n",
              "    .dataframe tbody tr th:only-of-type {\n",
              "        vertical-align: middle;\n",
              "    }\n",
              "\n",
              "    .dataframe tbody tr th {\n",
              "        vertical-align: top;\n",
              "    }\n",
              "\n",
              "    .dataframe thead th {\n",
              "        text-align: right;\n",
              "    }\n",
              "</style>\n",
              "<table border=\"1\" class=\"dataframe\">\n",
              "  <thead>\n",
              "    <tr style=\"text-align: right;\">\n",
              "      <th></th>\n",
              "      <th>Unnamed: 0</th>\n",
              "      <th>movie_id</th>\n",
              "      <th>movie_title</th>\n",
              "      <th>release_date</th>\n",
              "      <th>video_release_date</th>\n",
              "      <th>IMDb_URL</th>\n",
              "      <th>genre</th>\n",
              "      <th>user_id</th>\n",
              "      <th>rating</th>\n",
              "      <th>unix_timestamp</th>\n",
              "      <th>age</th>\n",
              "      <th>sex</th>\n",
              "      <th>occupation</th>\n",
              "      <th>zip_code</th>\n",
              "    </tr>\n",
              "  </thead>\n",
              "  <tbody>\n",
              "    <tr>\n",
              "      <th>0</th>\n",
              "      <td>0</td>\n",
              "      <td>1</td>\n",
              "      <td>Toy Story (1995)</td>\n",
              "      <td>b'01-Jan-1995'</td>\n",
              "      <td>NaN</td>\n",
              "      <td>http://us.imdb.com/M/title-exact?Toy%20Story%2...</td>\n",
              "      <td>[0, 0, 1, 0, 0, 0, 0, 0, 0, 0, 0, 0, 0, 0, 0, ...</td>\n",
              "      <td>308</td>\n",
              "      <td>4</td>\n",
              "      <td>887736532</td>\n",
              "      <td>60</td>\n",
              "      <td>M</td>\n",
              "      <td>retired</td>\n",
              "      <td>95076</td>\n",
              "    </tr>\n",
              "    <tr>\n",
              "      <th>1</th>\n",
              "      <td>1</td>\n",
              "      <td>4</td>\n",
              "      <td>Get Shorty (1995)</td>\n",
              "      <td>b'01-Jan-1995'</td>\n",
              "      <td>NaN</td>\n",
              "      <td>http://us.imdb.com/M/title-exact?Get%20Shorty%...</td>\n",
              "      <td>[1, 0, 0, 0, 0, 0, 0, 0, 0, 0, 0, 0, 0, 0, 0, ...</td>\n",
              "      <td>308</td>\n",
              "      <td>5</td>\n",
              "      <td>887737890</td>\n",
              "      <td>60</td>\n",
              "      <td>M</td>\n",
              "      <td>retired</td>\n",
              "      <td>95076</td>\n",
              "    </tr>\n",
              "    <tr>\n",
              "      <th>2</th>\n",
              "      <td>2</td>\n",
              "      <td>5</td>\n",
              "      <td>Copycat (1995)</td>\n",
              "      <td>b'01-Jan-1995'</td>\n",
              "      <td>NaN</td>\n",
              "      <td>http://us.imdb.com/M/title-exact?Copycat%20(1995)</td>\n",
              "      <td>[0, 0, 0, 0, 0, 1, 0, 0, 0, 0, 0, 0, 0, 0, 0, ...</td>\n",
              "      <td>308</td>\n",
              "      <td>4</td>\n",
              "      <td>887739608</td>\n",
              "      <td>60</td>\n",
              "      <td>M</td>\n",
              "      <td>retired</td>\n",
              "      <td>95076</td>\n",
              "    </tr>\n",
              "    <tr>\n",
              "      <th>3</th>\n",
              "      <td>3</td>\n",
              "      <td>7</td>\n",
              "      <td>Twelve Monkeys (1995)</td>\n",
              "      <td>b'01-Jan-1995'</td>\n",
              "      <td>NaN</td>\n",
              "      <td>http://us.imdb.com/M/title-exact?Twelve%20Monk...</td>\n",
              "      <td>[0, 0, 0, 0, 0, 0, 0, 1, 0, 0, 0, 0, 0, 0, 0, ...</td>\n",
              "      <td>308</td>\n",
              "      <td>4</td>\n",
              "      <td>887738847</td>\n",
              "      <td>60</td>\n",
              "      <td>M</td>\n",
              "      <td>retired</td>\n",
              "      <td>95076</td>\n",
              "    </tr>\n",
              "    <tr>\n",
              "      <th>4</th>\n",
              "      <td>4</td>\n",
              "      <td>8</td>\n",
              "      <td>Babe (1995)</td>\n",
              "      <td>b'01-Jan-1995'</td>\n",
              "      <td>NaN</td>\n",
              "      <td>http://us.imdb.com/M/title-exact?Babe%20(1995)</td>\n",
              "      <td>[0, 0, 0, 1, 0, 0, 0, 0, 0, 0, 0, 0, 0, 0, 0, ...</td>\n",
              "      <td>308</td>\n",
              "      <td>5</td>\n",
              "      <td>887736696</td>\n",
              "      <td>60</td>\n",
              "      <td>M</td>\n",
              "      <td>retired</td>\n",
              "      <td>95076</td>\n",
              "    </tr>\n",
              "  </tbody>\n",
              "</table>\n",
              "</div>"
            ],
            "text/plain": [
              "   Unnamed: 0  movie_id            movie_title  ... sex  occupation zip_code\n",
              "0           0         1       Toy Story (1995)  ...   M     retired    95076\n",
              "1           1         4      Get Shorty (1995)  ...   M     retired    95076\n",
              "2           2         5         Copycat (1995)  ...   M     retired    95076\n",
              "3           3         7  Twelve Monkeys (1995)  ...   M     retired    95076\n",
              "4           4         8            Babe (1995)  ...   M     retired    95076\n",
              "\n",
              "[5 rows x 14 columns]"
            ]
          },
          "metadata": {
            "tags": []
          },
          "execution_count": 18
        }
      ]
    },
    {
      "cell_type": "code",
      "metadata": {
        "id": "8BzWsaTviUoL",
        "colab_type": "code",
        "colab": {}
      },
      "source": [
        "train=pd.read_csv('train.csv',delimiter=',')\n",
        "train=train[['user_id','movie_id','rating','unix_timestamp']]\n",
        "train=train.rename(columns={'user_id':'userID','movie_id':'itemID','unix_timestamp':'timestamp'})\n",
        "test=pd.read_csv('test.csv',delimiter=',')\n",
        "test=test[['user_id','movie_id','rating','unix_timestamp']]\n",
        "test=test.rename(columns={'user_id':'userID','movie_id':'itemID','unix_timestamp':'timestamp'})"
      ],
      "execution_count": 0,
      "outputs": []
    },
    {
      "cell_type": "code",
      "metadata": {
        "id": "ulSD2HMei8Fj",
        "colab_type": "code",
        "outputId": "3825b448-ea4d-4c41-9a36-04f80ac3f8cc",
        "colab": {
          "base_uri": "https://localhost:8080/",
          "height": 402
        }
      },
      "source": [
        "train"
      ],
      "execution_count": 0,
      "outputs": [
        {
          "output_type": "execute_result",
          "data": {
            "text/html": [
              "<div>\n",
              "<style scoped>\n",
              "    .dataframe tbody tr th:only-of-type {\n",
              "        vertical-align: middle;\n",
              "    }\n",
              "\n",
              "    .dataframe tbody tr th {\n",
              "        vertical-align: top;\n",
              "    }\n",
              "\n",
              "    .dataframe thead th {\n",
              "        text-align: right;\n",
              "    }\n",
              "</style>\n",
              "<table border=\"1\" class=\"dataframe\">\n",
              "  <thead>\n",
              "    <tr style=\"text-align: right;\">\n",
              "      <th></th>\n",
              "      <th>userID</th>\n",
              "      <th>itemID</th>\n",
              "      <th>rating</th>\n",
              "      <th>timestamp</th>\n",
              "    </tr>\n",
              "  </thead>\n",
              "  <tbody>\n",
              "    <tr>\n",
              "      <th>0</th>\n",
              "      <td>46</td>\n",
              "      <td>267</td>\n",
              "      <td>4</td>\n",
              "      <td>879439040</td>\n",
              "    </tr>\n",
              "    <tr>\n",
              "      <th>1</th>\n",
              "      <td>845</td>\n",
              "      <td>584</td>\n",
              "      <td>2</td>\n",
              "      <td>883949643</td>\n",
              "    </tr>\n",
              "    <tr>\n",
              "      <th>2</th>\n",
              "      <td>22</td>\n",
              "      <td>214</td>\n",
              "      <td>2</td>\n",
              "      <td>874787116</td>\n",
              "    </tr>\n",
              "    <tr>\n",
              "      <th>3</th>\n",
              "      <td>757</td>\n",
              "      <td>87</td>\n",
              "      <td>4</td>\n",
              "      <td>881979942</td>\n",
              "    </tr>\n",
              "    <tr>\n",
              "      <th>4</th>\n",
              "      <td>674</td>\n",
              "      <td>1627</td>\n",
              "      <td>5</td>\n",
              "      <td>889489837</td>\n",
              "    </tr>\n",
              "    <tr>\n",
              "      <th>...</th>\n",
              "      <td>...</td>\n",
              "      <td>...</td>\n",
              "      <td>...</td>\n",
              "      <td>...</td>\n",
              "    </tr>\n",
              "    <tr>\n",
              "      <th>74995</th>\n",
              "      <td>278</td>\n",
              "      <td>661</td>\n",
              "      <td>2</td>\n",
              "      <td>875310631</td>\n",
              "    </tr>\n",
              "    <tr>\n",
              "      <th>74996</th>\n",
              "      <td>293</td>\n",
              "      <td>263</td>\n",
              "      <td>2</td>\n",
              "      <td>877819090</td>\n",
              "    </tr>\n",
              "    <tr>\n",
              "      <th>74997</th>\n",
              "      <td>523</td>\n",
              "      <td>683</td>\n",
              "      <td>4</td>\n",
              "      <td>884636236</td>\n",
              "    </tr>\n",
              "    <tr>\n",
              "      <th>74998</th>\n",
              "      <td>4</td>\n",
              "      <td>166</td>\n",
              "      <td>2</td>\n",
              "      <td>875636281</td>\n",
              "    </tr>\n",
              "    <tr>\n",
              "      <th>74999</th>\n",
              "      <td>406</td>\n",
              "      <td>70</td>\n",
              "      <td>3</td>\n",
              "      <td>875046460</td>\n",
              "    </tr>\n",
              "  </tbody>\n",
              "</table>\n",
              "<p>75000 rows × 4 columns</p>\n",
              "</div>"
            ],
            "text/plain": [
              "       userID  itemID  rating  timestamp\n",
              "0          46     267       4  879439040\n",
              "1         845     584       2  883949643\n",
              "2          22     214       2  874787116\n",
              "3         757      87       4  881979942\n",
              "4         674    1627       5  889489837\n",
              "...       ...     ...     ...        ...\n",
              "74995     278     661       2  875310631\n",
              "74996     293     263       2  877819090\n",
              "74997     523     683       4  884636236\n",
              "74998       4     166       2  875636281\n",
              "74999     406      70       3  875046460\n",
              "\n",
              "[75000 rows x 4 columns]"
            ]
          },
          "metadata": {
            "tags": []
          },
          "execution_count": 27
        }
      ]
    },
    {
      "cell_type": "code",
      "metadata": {
        "id": "4O1Ls_GLywds",
        "colab_type": "code",
        "colab": {}
      },
      "source": [
        "data = NCFDataset(train=train, test=test, seed=SEED)"
      ],
      "execution_count": 0,
      "outputs": []
    },
    {
      "cell_type": "code",
      "metadata": {
        "id": "DMV9oIqDy9iW",
        "colab_type": "code",
        "colab": {}
      },
      "source": [
        "model = NCF (\n",
        "    n_users=data.n_users, \n",
        "    n_items=data.n_items,\n",
        "    model_type=\"NeuMF\",\n",
        "    n_factors=4,\n",
        "    layer_sizes=[16,8,4],\n",
        "    n_epochs=EPOCHS,\n",
        "    batch_size=BATCH_SIZE,\n",
        "    learning_rate=1e-3,\n",
        "    verbose=10,\n",
        "    seed=SEED\n",
        ")"
      ],
      "execution_count": 0,
      "outputs": []
    },
    {
      "cell_type": "code",
      "metadata": {
        "id": "R20avS4XzkR0",
        "colab_type": "code",
        "outputId": "4d6a707f-eca4-42fa-a74b-f7ec756993f0",
        "colab": {
          "base_uri": "https://localhost:8080/",
          "height": 34
        }
      },
      "source": [
        "start_time = time.time()\n",
        "\n",
        "model.fit(data)\n",
        "\n",
        "train_time = time.time() - start_time\n",
        "\n",
        "print(\"Took {} seconds for training.\".format(train_time))"
      ],
      "execution_count": 22,
      "outputs": [
        {
          "output_type": "stream",
          "text": [
            "Took 324.75108075141907 seconds for training.\n"
          ],
          "name": "stdout"
        }
      ]
    },
    {
      "cell_type": "code",
      "metadata": {
        "id": "yJbDXZ3yz1Ke",
        "colab_type": "code",
        "outputId": "78c41f59-dd09-44d4-9cfb-dce6d47f92b4",
        "colab": {
          "base_uri": "https://localhost:8080/",
          "height": 34
        }
      },
      "source": [
        "start_time = time.time()\n",
        "\n",
        "users, items, preds = [], [], []\n",
        "item = list(train.itemID.unique())\n",
        "for user in train.userID.unique():\n",
        "    user = [user] * len(item) \n",
        "    users.extend(user)\n",
        "    items.extend(item)\n",
        "    preds.extend(list(model.predict(user, item, is_list=True)))\n",
        "\n",
        "all_predictions = pd.DataFrame(data={\"userID\": users, \"itemID\":items, \"prediction\":preds})\n",
        "\n",
        "merged = pd.merge(train, all_predictions, on=[\"userID\", \"itemID\"], how=\"outer\")\n",
        "all_predictions = merged[merged.rating.isnull()].drop('rating', axis=1)\n",
        "\n",
        "test_time = time.time() - start_time\n",
        "print(\"Took {} seconds for prediction.\".format(test_time))"
      ],
      "execution_count": 23,
      "outputs": [
        {
          "output_type": "stream",
          "text": [
            "Took 3.0805230140686035 seconds for prediction.\n"
          ],
          "name": "stdout"
        }
      ]
    },
    {
      "cell_type": "code",
      "metadata": {
        "id": "fzcsKB0grr8b",
        "colab_type": "code",
        "colab": {}
      },
      "source": [
        "def metrics(data_true, data_pred,time_train, time_test):\n",
        "    mse=rmse(test, all_predictions)\n",
        "    mae_=mae(test, all_predictions)\n",
        "    r2=rsquared(test, all_predictions)\n",
        "    ex_var=exp_var(test, all_predictions)\n",
        "    df=pd.DataFrame({\"RMSE\": mse, \"MAE\":mae_, \"R2_score\":r2, \"explained variance\":ex_var,'train time':time_train,\n",
        "                     'test time':time_test},index=[0])\n",
        "    return df"
      ],
      "execution_count": 0,
      "outputs": []
    },
    {
      "cell_type": "code",
      "metadata": {
        "id": "qxbVeSFmrxSA",
        "colab_type": "code",
        "outputId": "e8d5269d-507d-4881-cd3b-1fcad3a07263",
        "colab": {
          "base_uri": "https://localhost:8080/",
          "height": 77
        }
      },
      "source": [
        "metrics(test,all_predictions,train_time,test_time)"
      ],
      "execution_count": 30,
      "outputs": [
        {
          "output_type": "execute_result",
          "data": {
            "text/html": [
              "<div>\n",
              "<style scoped>\n",
              "    .dataframe tbody tr th:only-of-type {\n",
              "        vertical-align: middle;\n",
              "    }\n",
              "\n",
              "    .dataframe tbody tr th {\n",
              "        vertical-align: top;\n",
              "    }\n",
              "\n",
              "    .dataframe thead th {\n",
              "        text-align: right;\n",
              "    }\n",
              "</style>\n",
              "<table border=\"1\" class=\"dataframe\">\n",
              "  <thead>\n",
              "    <tr style=\"text-align: right;\">\n",
              "      <th></th>\n",
              "      <th>RMSE</th>\n",
              "      <th>MAE</th>\n",
              "      <th>R2_score</th>\n",
              "      <th>explained variance</th>\n",
              "      <th>train time</th>\n",
              "      <th>test time</th>\n",
              "    </tr>\n",
              "  </thead>\n",
              "  <tbody>\n",
              "    <tr>\n",
              "      <th>0</th>\n",
              "      <td>3.224425</td>\n",
              "      <td>3.030034</td>\n",
              "      <td>-7.159298</td>\n",
              "      <td>0.045855</td>\n",
              "      <td>324.751081</td>\n",
              "      <td>3.080523</td>\n",
              "    </tr>\n",
              "  </tbody>\n",
              "</table>\n",
              "</div>"
            ],
            "text/plain": [
              "       RMSE       MAE  R2_score  explained variance  train time  test time\n",
              "0  3.224425  3.030034 -7.159298            0.045855  324.751081   3.080523"
            ]
          },
          "metadata": {
            "tags": []
          },
          "execution_count": 30
        }
      ]
    },
    {
      "cell_type": "code",
      "metadata": {
        "id": "lRjN5GXE634S",
        "colab_type": "code",
        "colab": {
          "base_uri": "https://localhost:8080/",
          "height": 303
        },
        "outputId": "88e80340-ae7a-4e34-cbcb-9ef63332e6cb"
      },
      "source": [
        "ndcg_score(test,all_predictions)"
      ],
      "execution_count": 28,
      "outputs": [
        {
          "output_type": "error",
          "ename": "ValueError",
          "evalue": "ignored",
          "traceback": [
            "\u001b[0;31m---------------------------------------------------------------------------\u001b[0m",
            "\u001b[0;31mValueError\u001b[0m                                Traceback (most recent call last)",
            "\u001b[0;32m<ipython-input-28-bb454114dec5>\u001b[0m in \u001b[0;36m<module>\u001b[0;34m()\u001b[0m\n\u001b[0;32m----> 1\u001b[0;31m \u001b[0mndcg_score\u001b[0m\u001b[0;34m(\u001b[0m\u001b[0mtest\u001b[0m\u001b[0;34m,\u001b[0m\u001b[0mall_predictions\u001b[0m\u001b[0;34m)\u001b[0m\u001b[0;34m\u001b[0m\u001b[0;34m\u001b[0m\u001b[0m\n\u001b[0m",
            "\u001b[0;32m/usr/local/lib/python3.6/dist-packages/sklearn/metrics/_ranking.py\u001b[0m in \u001b[0;36mndcg_score\u001b[0;34m(y_true, y_score, k, sample_weight, ignore_ties)\u001b[0m\n\u001b[1;32m   1415\u001b[0m     \"\"\"\n\u001b[1;32m   1416\u001b[0m     \u001b[0my_true\u001b[0m \u001b[0;34m=\u001b[0m \u001b[0mcheck_array\u001b[0m\u001b[0;34m(\u001b[0m\u001b[0my_true\u001b[0m\u001b[0;34m,\u001b[0m \u001b[0mensure_2d\u001b[0m\u001b[0;34m=\u001b[0m\u001b[0;32mFalse\u001b[0m\u001b[0;34m)\u001b[0m\u001b[0;34m\u001b[0m\u001b[0;34m\u001b[0m\u001b[0m\n\u001b[0;32m-> 1417\u001b[0;31m     \u001b[0my_score\u001b[0m \u001b[0;34m=\u001b[0m \u001b[0mcheck_array\u001b[0m\u001b[0;34m(\u001b[0m\u001b[0my_score\u001b[0m\u001b[0;34m,\u001b[0m \u001b[0mensure_2d\u001b[0m\u001b[0;34m=\u001b[0m\u001b[0;32mFalse\u001b[0m\u001b[0;34m)\u001b[0m\u001b[0;34m\u001b[0m\u001b[0;34m\u001b[0m\u001b[0m\n\u001b[0m\u001b[1;32m   1418\u001b[0m     \u001b[0mcheck_consistent_length\u001b[0m\u001b[0;34m(\u001b[0m\u001b[0my_true\u001b[0m\u001b[0;34m,\u001b[0m \u001b[0my_score\u001b[0m\u001b[0;34m,\u001b[0m \u001b[0msample_weight\u001b[0m\u001b[0;34m)\u001b[0m\u001b[0;34m\u001b[0m\u001b[0;34m\u001b[0m\u001b[0m\n\u001b[1;32m   1419\u001b[0m     \u001b[0m_check_dcg_target_type\u001b[0m\u001b[0;34m(\u001b[0m\u001b[0my_true\u001b[0m\u001b[0;34m)\u001b[0m\u001b[0;34m\u001b[0m\u001b[0;34m\u001b[0m\u001b[0m\n",
            "\u001b[0;32m/usr/local/lib/python3.6/dist-packages/sklearn/utils/validation.py\u001b[0m in \u001b[0;36mcheck_array\u001b[0;34m(array, accept_sparse, accept_large_sparse, dtype, order, copy, force_all_finite, ensure_2d, allow_nd, ensure_min_samples, ensure_min_features, warn_on_dtype, estimator)\u001b[0m\n\u001b[1;32m    576\u001b[0m         \u001b[0;32mif\u001b[0m \u001b[0mforce_all_finite\u001b[0m\u001b[0;34m:\u001b[0m\u001b[0;34m\u001b[0m\u001b[0;34m\u001b[0m\u001b[0m\n\u001b[1;32m    577\u001b[0m             _assert_all_finite(array,\n\u001b[0;32m--> 578\u001b[0;31m                                allow_nan=force_all_finite == 'allow-nan')\n\u001b[0m\u001b[1;32m    579\u001b[0m \u001b[0;34m\u001b[0m\u001b[0m\n\u001b[1;32m    580\u001b[0m     \u001b[0;32mif\u001b[0m \u001b[0mensure_min_samples\u001b[0m \u001b[0;34m>\u001b[0m \u001b[0;36m0\u001b[0m\u001b[0;34m:\u001b[0m\u001b[0;34m\u001b[0m\u001b[0;34m\u001b[0m\u001b[0m\n",
            "\u001b[0;32m/usr/local/lib/python3.6/dist-packages/sklearn/utils/validation.py\u001b[0m in \u001b[0;36m_assert_all_finite\u001b[0;34m(X, allow_nan, msg_dtype)\u001b[0m\n\u001b[1;32m     58\u001b[0m                     \u001b[0mmsg_err\u001b[0m\u001b[0;34m.\u001b[0m\u001b[0mformat\u001b[0m\u001b[0;34m\u001b[0m\u001b[0;34m\u001b[0m\u001b[0m\n\u001b[1;32m     59\u001b[0m                     (type_err,\n\u001b[0;32m---> 60\u001b[0;31m                      msg_dtype if msg_dtype is not None else X.dtype)\n\u001b[0m\u001b[1;32m     61\u001b[0m             )\n\u001b[1;32m     62\u001b[0m     \u001b[0;31m# for object dtype data, we only check for NaNs (GH-13254)\u001b[0m\u001b[0;34m\u001b[0m\u001b[0;34m\u001b[0m\u001b[0;34m\u001b[0m\u001b[0m\n",
            "\u001b[0;31mValueError\u001b[0m: Input contains NaN, infinity or a value too large for dtype('float64')."
          ]
        }
      ]
    },
    {
      "cell_type": "code",
      "metadata": {
        "id": "EL9E3U-s6zbV",
        "colab_type": "code",
        "colab": {}
      },
      "source": [
        ""
      ],
      "execution_count": 0,
      "outputs": []
    }
  ]
}